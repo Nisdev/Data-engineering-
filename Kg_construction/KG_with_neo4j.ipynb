{
  "nbformat": 4,
  "nbformat_minor": 0,
  "metadata": {
    "colab": {
      "provenance": []
    },
    "kernelspec": {
      "name": "python3",
      "display_name": "Python 3"
    },
    "language_info": {
      "name": "python"
    }
  },
  "cells": [
    {
      "cell_type": "markdown",
      "metadata": {
        "id": "WOX9PGzsQ7--"
      },
      "source": [
        "\n",
        "### **Construction of KG**"
      ]
    },
    {
      "cell_type": "code",
      "execution_count": null,
      "metadata": {
        "id": "MVNE6kmKYDZC"
      },
      "outputs": [],
      "source": [
        "!pip install py2neo"
      ]
    },
    {
      "cell_type": "code",
      "execution_count": null,
      "metadata": {
        "id": "xlJ1bmhiYQLc"
      },
      "outputs": [],
      "source": [
        "from py2neo import Graph, Node, Relationship, NodeMatcher\n",
        "import csv\n",
        "import pandas as pd"
      ]
    },
    {
      "cell_type": "markdown",
      "source": [
        "Needed function : remove extra spaces and ending space if any"
      ],
      "metadata": {
        "id": "oXBdid_ZT0YH"
      }
    },
    {
      "cell_type": "code",
      "source": [
        "import re\n",
        "spaces = ['\\u200b', '\\u200e', '\\u202a', '\\u202c', '\\ufeff', '\\uf0d8', '\\u2061', '\\x10', '\\x7f', '\\x9d', '\\xad', '\\xa0']\n",
        "def remove_space(text):\n",
        "    for space in spaces:\n",
        "        text = text.replace(space, ' ')\n",
        "    text = text.strip()\n",
        "    text = re.sub('\\s+', ' ', text)\n",
        "    return text"
      ],
      "metadata": {
        "id": "HwTCUc_fTzCN"
      },
      "execution_count": null,
      "outputs": []
    },
    {
      "cell_type": "markdown",
      "metadata": {
        "id": "YS9fedEh4oB9"
      },
      "source": [
        "### Create Graph using py2neo"
      ]
    },
    {
      "cell_type": "markdown",
      "metadata": {
        "id": "ExgdZwDR40z5"
      },
      "source": [
        "**Etablir la connexion avec l'instance DB neo4j créée**\n",
        "\n"
      ]
    },
    {
      "cell_type": "code",
      "execution_count": null,
      "metadata": {
        "id": "V1_EyeBhmhug"
      },
      "outputs": [],
      "source": [
        "g = Graph(\"neo4j+s://a56747c3.databases.neo4j.io\", auth=(\"neo4j\", \"z8CvBTLIq7IK5nOzXjK6_FQ-mlVVoBzdxVbb249q4-A\"))"
      ]
    },
    {
      "cell_type": "markdown",
      "metadata": {
        "id": "CXQIUE0L5f8P"
      },
      "source": [
        "A NodeMatcher can be used to locate nodes that fulfil a specific set of criteria."
      ]
    },
    {
      "cell_type": "code",
      "execution_count": null,
      "metadata": {
        "id": "l-SCAtrg5TTV"
      },
      "outputs": [],
      "source": [
        "matcher = NodeMatcher(g)"
      ]
    },
    {
      "cell_type": "markdown",
      "metadata": {
        "id": "T1BvxijB5v1G"
      },
      "source": [
        "Making sure that my graph isn't containing some nodes/relations from previous works."
      ]
    },
    {
      "cell_type": "code",
      "execution_count": null,
      "metadata": {
        "id": "nLrP88he5i3D"
      },
      "outputs": [],
      "source": [
        "g.delete_all()"
      ]
    },
    {
      "cell_type": "markdown",
      "metadata": {
        "id": "g1bGUk8Jl4az"
      },
      "source": [
        "## **Graph 1** : ner & re on cybersecurity reports "
      ]
    },
    {
      "cell_type": "markdown",
      "metadata": {
        "id": "fVVtTicCRT_Y"
      },
      "source": [
        "I'm gonna start by creating nodes"
      ]
    },
    {
      "cell_type": "code",
      "source": [
        "import pandas as pd\n",
        "df=pd.read_csv('triplets_KG.csv') # csv file containing the extracted triplets from cybersecurity reports using best ner & re models\n",
        "df"
      ],
      "metadata": {
        "id": "1JQSqUzyyPEI"
      },
      "execution_count": null,
      "outputs": []
    },
    {
      "cell_type": "code",
      "source": [
        "df=pd.DataFrame({\n",
        "    'source':df['source'].tolist(),\n",
        "    'tag1':df['tag1'].tolist(),\n",
        "    'relation_label':df['relation_label'].tolist(),\n",
        "    'target':df['target'].tolist(),\n",
        "    'tag2':df['tag2'].tolist()\n",
        "})"
      ],
      "metadata": {
        "id": "o4xqbTmHyUd6"
      },
      "execution_count": null,
      "outputs": []
    },
    {
      "cell_type": "code",
      "execution_count": null,
      "metadata": {
        "id": "hyxdDlJ8Vzsb"
      },
      "outputs": [],
      "source": [
        "##disease\n",
        "disease1=df[df['tag1']=='DISEASE']\n",
        "disease1.to_csv('disease1.csv')\n",
        "disease2=df[df['tag2']=='DISEASE']\n",
        "disease2.to_csv('disease2.csv')\n",
        "\n",
        "##raredisease\n",
        "raredisease1=df[df['tag1']=='RAREDISEASE']\n",
        "raredisease1.to_csv('raredisease1.csv')\n",
        "raredisease2=df[df['tag2']=='RAREDISEASE']\n",
        "raredisease2.to_csv('raredisease2.csv')\n",
        "\n",
        "##sign\n",
        "sign1=df[df['tag1']=='SIGN']\n",
        "sign1.to_csv('sign1.csv')\n",
        "sign2=df[df['tag2']=='SIGN']\n",
        "sign2.to_csv('sign2.csv')\n",
        "\n",
        "##anaphor\n",
        "anaphor1=df[df['tag1']=='ANAPHOR']\n",
        "anaphor1.to_csv('anaphor1.csv')\n",
        "anaphor2=df[df['tag2']=='ANAPHOR']\n",
        "anaphor2.to_csv('anaphor2.csv')\n",
        "\n",
        "##symptom\n",
        "symptom1=df[df['tag1']=='SYMPTOM']\n",
        "symptom1.to_csv('symptom1.csv')\n",
        "symptom2=df[df['tag2']=='SYMPTOM']\n",
        "symptom2.to_csv('symptom2.csv')\n",
        "\n",
        "##SKINRAREDISEASE\n",
        "sk1=df[df['tag1']=='SKINRAREDISEASE']\n",
        "sk1.to_csv('SKINRAREDISEASE1.csv')\n",
        "sk2=df[df['tag2']=='SKINRAREDISEASE']\n",
        "sk2.to_csv('SKINRAREDISEASE2.csv')\n",
        "\n"
      ]
    },
    {
      "cell_type": "markdown",
      "metadata": {
        "id": "o2RzEngCaxSy"
      },
      "source": [
        "### **node1: disease**"
      ]
    },
    {
      "cell_type": "code",
      "execution_count": null,
      "metadata": {
        "id": "xNhKA3MmRRIv"
      },
      "outputs": [],
      "source": [
        "name=[]\n",
        "with open('disease1.csv', 'r') as f1:\n",
        "    list_ = csv.reader(f1)\n",
        "    for ele in list_:\n",
        "      if list_.line_num == 1:\n",
        "              continue\n",
        "      if ele[1] not in name:\n",
        "        attributs = {'Name': ele[1]}\n",
        "        node_m1 = Node(\"disease\", **attributs)\n",
        "        g.create(node_m1)\n",
        "        name.append(ele[1])\n",
        "with open('disease2.csv', 'r') as f1:\n",
        "    list_ = csv.reader(f1)\n",
        "    for ele in list_:\n",
        "      if list_.line_num == 1:\n",
        "                continue\n",
        "      if ele[4] not in name:\n",
        "        attributs = {'Name': ele[4]}\n",
        "        node_m2 = Node(\"disease\", **attributs)\n",
        "        g.create(node_m2)\n",
        "        name.append(ele[4])"
      ]
    },
    {
      "cell_type": "markdown",
      "metadata": {
        "id": "fdABbgSba3BK"
      },
      "source": [
        "### **node2: raredisease**"
      ]
    },
    {
      "cell_type": "code",
      "execution_count": null,
      "metadata": {
        "id": "-nwI5t_Pa1a-"
      },
      "outputs": [],
      "source": [
        "name=[]\n",
        "with open('raredisease1.csv', 'r') as f1:\n",
        "    list_ = csv.reader(f1)\n",
        "    for ele in list_:\n",
        "      if list_.line_num == 1:\n",
        "                continue\n",
        "      if ele[1] not in name:\n",
        "        attributs = {'Name': ele[1]}\n",
        "        node_a = Node(\"raredisease\", **attributs)\n",
        "        g.create(node_a)\n",
        "        name.append(ele[1])\n",
        "with open('raredisease2.csv', 'r') as f1:\n",
        "    list_ = csv.reader(f1)\n",
        "    for ele in list_:\n",
        "      if list_.line_num == 1:\n",
        "                continue\n",
        "      if ele[4] not in name:\n",
        "        attributs = {'Name': ele[4]}\n",
        "        node_a2 = Node(\"raredisease\", **attributs)\n",
        "        g.create(node_a2)\n",
        "        name.append(ele[4])"
      ]
    },
    {
      "cell_type": "markdown",
      "metadata": {
        "id": "dSYWIe_Mkyz0"
      },
      "source": [
        "### **node3: symptom**"
      ]
    },
    {
      "cell_type": "code",
      "execution_count": null,
      "metadata": {
        "id": "eGX0-Yaejfkf"
      },
      "outputs": [],
      "source": [
        "name=[]\n",
        "with open('symptom1.csv', 'r') as f1:\n",
        "    list_ = csv.reader(f1)\n",
        "    for ele in list_:\n",
        "      if list_.line_num == 1:\n",
        "                continue\n",
        "      if ele[1] not in name:\n",
        "        attributs = {'Name': ele[1]}\n",
        "        node_a = Node(\"symptom\", **attributs)\n",
        "        g.create(node_a)\n",
        "        name.append(ele[1])\n",
        "with open('symptom2.csv', 'r') as f1:\n",
        "    list_ = csv.reader(f1)\n",
        "    for ele in list_:\n",
        "      if list_.line_num == 1:\n",
        "                continue\n",
        "      if ele[4] not in name:\n",
        "        attributs = {'Name': ele[4]}\n",
        "        node_a2 = Node(\"symptom\", **attributs)\n",
        "        g.create(node_a2)\n",
        "        name.append(ele[4])"
      ]
    },
    {
      "cell_type": "markdown",
      "metadata": {
        "id": "faQq5UBkk3UY"
      },
      "source": [
        "### **node4: anaphor**"
      ]
    },
    {
      "cell_type": "code",
      "execution_count": null,
      "metadata": {
        "id": "BZPALIt8jojP"
      },
      "outputs": [],
      "source": [
        "name=[]\n",
        "with open('anaphor1.csv', 'r') as f1:\n",
        "    list_ = csv.reader(f1)\n",
        "    for ele in list_:\n",
        "      if list_.line_num == 1:\n",
        "                continue\n",
        "      if ele[1] not in name:\n",
        "        attributs = {'Name': ele[1]}\n",
        "        node_a = Node(\"anaphor\", **attributs)\n",
        "        g.create(node_a)\n",
        "        name.append(ele[1])\n",
        "with open('anaphor2.csv', 'r') as f1:\n",
        "    list_ = csv.reader(f1)\n",
        "    for ele in list_:\n",
        "      if list_.line_num == 1:\n",
        "                continue\n",
        "      if ele[4] not in name:\n",
        "        attributs = {'Name': ele[4]}\n",
        "        node_a2 = Node(\"anaphor\", **attributs)\n",
        "        g.create(node_a2)\n",
        "        name.append(ele[4])"
      ]
    },
    {
      "cell_type": "markdown",
      "metadata": {
        "id": "_gIqG8XYlP58"
      },
      "source": [
        "### **node5: sign**"
      ]
    },
    {
      "cell_type": "code",
      "execution_count": null,
      "metadata": {
        "id": "CxRPwGaQlN32"
      },
      "outputs": [],
      "source": [
        "with open('sign1.csv', 'r') as f1:\n",
        "    list_ = csv.reader(f1)\n",
        "    for ele in list_:\n",
        "        if list_.line_num == 1:\n",
        "                continue\n",
        "        attributs = {'Name': ele[1]}\n",
        "        node_a = Node(\"sign\", **attributs)\n",
        "        g.create(node_a)\n",
        "        name.append(ele[1])\n",
        "with open('sign2.csv', 'r') as f1:\n",
        "    list_ = csv.reader(f1)\n",
        "    for ele in list_:\n",
        "        if list_.line_num == 1:\n",
        "                continue\n",
        "        attributs = {'Name': ele[4]}\n",
        "        node_a2 = Node(\"sign\", **attributs)\n",
        "        g.create(node_a2)\n",
        "        name.append(ele[4])"
      ]
    },
    {
      "cell_type": "markdown",
      "metadata": {
        "id": "vnjH2dnp33pN"
      },
      "source": [
        "### **node6: skin rare disease**"
      ]
    },
    {
      "cell_type": "code",
      "execution_count": null,
      "metadata": {
        "id": "bqtCbr3N33pO"
      },
      "outputs": [],
      "source": [
        "with open('SKINRAREDISEASE1.csv', 'r') as f1:\n",
        "    list_ = csv.reader(f1)\n",
        "    for ele in list_:\n",
        "        if list_.line_num == 1:\n",
        "                continue\n",
        "        attributs = {'Name': ele[1]}\n",
        "        node_a = Node(\"skinraredisease\", **attributs)\n",
        "        g.create(node_a)\n",
        "        name.append(ele[1])\n",
        "with open('SKINRAREDISEASE2.csv', 'r') as f1:\n",
        "    list_ = csv.reader(f1)\n",
        "    for ele in list_:\n",
        "        if list_.line_num == 1:\n",
        "                continue\n",
        "        attributs = {'Name': ele[4]}\n",
        "        node_a2 = Node(\"skinraredisease\", **attributs)\n",
        "        g.create(node_a2)\n",
        "        name.append(ele[4])"
      ]
    },
    {
      "cell_type": "markdown",
      "source": [
        "## **Creating Edges**"
      ],
      "metadata": {
        "id": "oJH1nXa9SK8r"
      }
    },
    {
      "cell_type": "code",
      "execution_count": null,
      "metadata": {
        "id": "bqKjVdavtU9s"
      },
      "outputs": [],
      "source": [
        "nodes_graph={\n",
        "    'DISEASE':'disease',\n",
        "    'RAREDISEASE':'raredisease',\n",
        "    'SIGN':'sign',\n",
        "    'ANAPHOR':'anaphor',\n",
        "    'SYMPTOM':'symptom',\n",
        "    'SKINRAREDISEASE':'skinraredisease'\n",
        "}"
      ]
    },
    {
      "cell_type": "code",
      "execution_count": null,
      "metadata": {
        "id": "THPFII-psyZW"
      },
      "outputs": [],
      "source": [
        "with open('raredisease1.csv', 'r') as f3:\n",
        "       list_ = csv.reader(f3)\n",
        "       for row in list_:\n",
        "            if list_.line_num == 1:\n",
        "                continue\n",
        "            attrs={'Name': row[1]}\n",
        "            curr_node=Node(\"raredisease\", **attrs)\n",
        "            node=nodes_graph[row[5]]\n",
        "            rel=row[3]\n",
        "            g.merge(curr_node, \"raredisease\", \"Name\") \n",
        "            #Tempnode= matcher.match(node, name=row[4]).first()\n",
        "            if \"'\" not in row[4]:\n",
        "              Tempnode= matcher.match(node).where('_.Name=~ \"'+ row[4] +'\"' ).first()\n",
        "              if Tempnode != None:\n",
        "                  relation3 = Relationship(curr_node, rel, Tempnode)\n",
        "                  g.create(relation3)"
      ]
    },
    {
      "cell_type": "code",
      "execution_count": null,
      "metadata": {
        "id": "z7MU_5wnyR73"
      },
      "outputs": [],
      "source": [
        "with open('raredisease2.csv', 'r') as f3:\n",
        "       list_ = csv.reader(f3)\n",
        "       for row in list_:\n",
        "            if list_.line_num == 1:\n",
        "                continue\n",
        "            attrs={'Name': row[4]}\n",
        "            curr_node=Node(\"raredisease\", **attrs)\n",
        "            node=nodes_graph[row[2]]\n",
        "            rel=row[3]\n",
        "            g.merge(curr_node, \"raredisease\", \"Name\") \n",
        "            if \"'\" and \")\" not in row[1]:\n",
        "              Tempnode = matcher.match(node).where(\"_.Name=~ '\" + row[1] + \"'\").first()\n",
        "              if Tempnode != None:\n",
        "                  relation3 = Relationship(Tempnode, rel, curr_node)\n",
        "                  g.create(relation3)"
      ]
    },
    {
      "cell_type": "code",
      "source": [
        "with open('disease2.csv', 'r') as f3:\n",
        "       list_ = csv.reader(f3)\n",
        "       for row in list_:\n",
        "            if list_.line_num == 1:\n",
        "                continue\n",
        "            attrs={'Name': row[4]}\n",
        "            curr_node=Node(\"disease\", **attrs)\n",
        "            node=nodes_graph[row[2]]\n",
        "            rel=row[3]\n",
        "            g.merge(curr_node, \"disease\", \"Name\")\n",
        "            if \"'\" not in row[1]:\n",
        "              Tempnode = matcher.match(node).where(\"_.Name=~'\" + row[1] + \"'\").first()\n",
        "              if Tempnode != None:\n",
        "                  relation3 = Relationship(Tempnode, rel, curr_node)\n",
        "                  g.create(relation3)"
      ],
      "metadata": {
        "id": "Dpuq5_DPYzV4"
      },
      "execution_count": null,
      "outputs": []
    },
    {
      "cell_type": "code",
      "source": [
        "with open('symptom2.csv', 'r') as f3:\n",
        "       list_ = csv.reader(f3)\n",
        "       for row in list_:\n",
        "            if list_.line_num == 1:\n",
        "                continue\n",
        "            attrs={'Name': row[4]}\n",
        "            curr_node=Node(\"symptom\", **attrs)\n",
        "            node=nodes_graph[row[2]]\n",
        "            rel=row[3]\n",
        "            g.merge(curr_node, \"symptom\", \"Name\")\n",
        "            if \"'\" not in row[1]:\n",
        "              Tempnode = matcher.match(node).where(\"_.Name=~'\" + row[1] + \"'\").first()\n",
        "              if Tempnode != None:\n",
        "                  relation3 = Relationship(Tempnode, rel, curr_node)\n",
        "                  g.create(relation3)"
      ],
      "metadata": {
        "id": "J1YpljeFZGLh"
      },
      "execution_count": null,
      "outputs": []
    },
    {
      "cell_type": "code",
      "source": [
        "with open('anaphor2.csv', 'r') as f3:\n",
        "       list_ = csv.reader(f3)\n",
        "       for row in list_:\n",
        "            if list_.line_num == 1:\n",
        "                continue\n",
        "            attrs={'Name': row[4]}\n",
        "            curr_node=Node(\"anaphor\", **attrs)\n",
        "            node=nodes_graph[row[2]]\n",
        "            rel=row[3]\n",
        "            g.merge(curr_node, \"anaphor\", \"Name\")\n",
        "            if \"'\" not in row[1]: \n",
        "              Tempnode = matcher.match(node).where(\"_.Name=~'\" + row[1] + \"'\").first()\n",
        "              if Tempnode != None:\n",
        "                  relation3 = Relationship(Tempnode, rel, curr_node)\n",
        "                  g.create(relation3)"
      ],
      "metadata": {
        "id": "F169UJoeZMjb"
      },
      "execution_count": null,
      "outputs": []
    },
    {
      "cell_type": "code",
      "source": [
        "with open('sign2.csv', 'r') as f3:\n",
        "       list_ = csv.reader(f3)\n",
        "       for row in list_:\n",
        "            if list_.line_num == 1:\n",
        "                continue\n",
        "            attrs={'Name': row[4]}\n",
        "            curr_node=Node(\"signe\", **attrs)\n",
        "            node=nodes_graph[row[2]]\n",
        "            rel=row[3]\n",
        "            g.merge(curr_node, \"signe\", \"Name\").first() \n",
        "            Tempnode = matcher.match(node).where(\"_.Name=~'\" + row[1] + \"'\").first()\n",
        "            if Tempnode != None:\n",
        "                  relation3 = Relationship(Tempnode, rel, curr_node)\n",
        "                  g.create(relation3)"
      ],
      "metadata": {
        "id": "hCQY5cT8ZaQC"
      },
      "execution_count": null,
      "outputs": []
    },
    {
      "cell_type": "code",
      "source": [
        "with open('disease1.csv', 'r') as f3:\n",
        "       list_ = csv.reader(f3)\n",
        "       for row in list_:\n",
        "            if list_.line_num == 1:\n",
        "                continue\n",
        "            attrs={'Name': row[1]}\n",
        "            curr_node=Node(\"disease\", **attrs)\n",
        "            node=nodes_graph[row[5]]\n",
        "            rel=row[3]\n",
        "            g.merge(curr_node, \"disease\", \"Name\") \n",
        "            #Tempnode= matcher.match(node, name=row[4]).first()\n",
        "            Tempnode= matcher.match(node).where('_.Name=~ \"'+ row[4] +'\"' ).first()\n",
        "            if Tempnode != None:\n",
        "                  relation3 = Relationship(curr_node, rel, Tempnode)\n",
        "                  g.create(relation3)"
      ],
      "metadata": {
        "id": "WkBJgZd-O9AM"
      },
      "execution_count": null,
      "outputs": []
    },
    {
      "cell_type": "code",
      "source": [
        "with open('symptom1.csv', 'r') as f3:\n",
        "       list_ = csv.reader(f3)\n",
        "       for row in list_:\n",
        "            if list_.line_num == 1:\n",
        "                continue\n",
        "            attrs={'Name': row[1]}\n",
        "            curr_node=Node(\"symptom\", **attrs)\n",
        "            node=nodes_graph[row[5]]\n",
        "            rel=row[3]\n",
        "            g.merge(curr_node, \"symptom\", \"Name\") \n",
        "            #Tempnode= matcher.match(node, name=row[4]).first()\n",
        "            Tempnode= matcher.match(node).where('_.Name=~ \"'+ row[4] +'\"' ).first()\n",
        "            if Tempnode != None:\n",
        "                  relation3 = Relationship(curr_node, rel, Tempnode)\n",
        "                  g.create(relation3)"
      ],
      "metadata": {
        "id": "9hiozqAvPNPL"
      },
      "execution_count": null,
      "outputs": []
    },
    {
      "cell_type": "code",
      "source": [
        "with open('anaphor1.csv', 'r') as f3:\n",
        "       list_ = csv.reader(f3)\n",
        "       for row in list_:\n",
        "            if list_.line_num == 1:\n",
        "                continue\n",
        "            attrs={'Name': row[1]}\n",
        "            curr_node=Node(\"anaphor\", **attrs)\n",
        "            node=nodes_graph[row[5]]\n",
        "            rel=row[3]\n",
        "            g.merge(curr_node, \"anaphor\", \"Name\") \n",
        "            #Tempnode= matcher.match(node, name=row[4]).first()\n",
        "            Tempnode= matcher.match(node).where('_.Name=~ \"'+ row[4] +'\"' ).first()\n",
        "            if Tempnode != None:\n",
        "                  relation3 = Relationship(curr_node, rel, Tempnode)\n",
        "                  g.create(relation3)"
      ],
      "metadata": {
        "id": "Hr0AGx6ZPSFU"
      },
      "execution_count": null,
      "outputs": []
    },
    {
      "cell_type": "code",
      "source": [
        "with open('sign1.csv', 'r') as f3:\n",
        "       list_ = csv.reader(f3)\n",
        "       for row in list_:\n",
        "            if list_.line_num == 1:\n",
        "                continue\n",
        "            attrs={'Name': row[1]}\n",
        "            curr_node=Node(\"sign\", **attrs)\n",
        "            node=nodes_graph[row[5]]\n",
        "            rel=row[3]\n",
        "            g.merge(curr_node, \"sign\", \"Name\") \n",
        "            #Tempnode= matcher.match(node, name=row[4]).first()\n",
        "            Tempnode= matcher.match(node).where('_.Name=~ \"'+ row[4] +'\"' ).first()\n",
        "            if Tempnode != None:\n",
        "                  relation3 = Relationship(curr_node, rel, Tempnode)\n",
        "                  g.create(relation3)"
      ],
      "metadata": {
        "id": "abm28NaiPmxI"
      },
      "execution_count": null,
      "outputs": []
    },
    {
      "cell_type": "code",
      "source": [
        "with open('SKINRAREDISEASE1.csv', 'r') as f3:\n",
        "       list_ = csv.reader(f3)\n",
        "       for row in list_:\n",
        "            if list_.line_num == 1:\n",
        "                continue\n",
        "            attrs={'Name': row[1]}\n",
        "            curr_node=Node(\"skinraredisease\", **attrs)\n",
        "            node=nodes_graph[row[5]]\n",
        "            rel=row[3]\n",
        "            g.merge(curr_node, \"skinraredisease\", \"Name\") \n",
        "            #Tempnode= matcher.match(node, name=row[4]).first()\n",
        "            Tempnode= matcher.match(node).where('_.Name=~ \"'+ row[4] +'\"' ).first()\n",
        "            if Tempnode != None:\n",
        "                  relation3 = Relationship(curr_node, rel, Tempnode)\n",
        "                  g.create(relation3)"
      ],
      "metadata": {
        "id": "HAiFdz0B5UAz"
      },
      "execution_count": null,
      "outputs": []
    },
    {
      "cell_type": "code",
      "source": [
        "with open('SKINRAREDISEASE2.csv', 'r') as f3:\n",
        "       list_ = csv.reader(f3)\n",
        "       for row in list_:\n",
        "            if list_.line_num == 1:\n",
        "                continue\n",
        "            attrs={'Name': row[1]}\n",
        "            curr_node=Node(\"skinraredisease\", **attrs)\n",
        "            node=nodes_graph[row[5]]\n",
        "            rel=row[3]\n",
        "            g.merge(curr_node, \"skinraredisease\", \"Name\") \n",
        "            #Tempnode= matcher.match(node, name=row[4]).first()\n",
        "            Tempnode= matcher.match(node).where('_.Name=~ \"'+ row[4] +'\"' ).first()\n",
        "            if Tempnode != None:\n",
        "                  relation3 = Relationship(curr_node, rel, Tempnode)\n",
        "                  g.create(relation3)"
      ],
      "metadata": {
        "id": "qh5gwmYG5UNt"
      },
      "execution_count": null,
      "outputs": []
    }
  ]
}