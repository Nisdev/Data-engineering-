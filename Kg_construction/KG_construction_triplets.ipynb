{
  "cells": [
    {
      "cell_type": "markdown",
      "metadata": {
        "id": "eQdXcPSwkEJh"
      },
      "source": [
        "Le but est de créer un jeu de données contenant les triplets généré à partir d'un ensemble de textes. \n",
        "\n",
        "- Source node , Target, Relationship label\n",
        "\n",
        "Puisque je vais construire le KG avec py2neo, j'aurai donc besoin même des étiquettes dans lesquels source et target nodes appartient. \n",
        "\n",
        "La sortie de ce notebook est une dataset contenant les triplets et les étiquettes; Ce jeu de donnée sera ensuite utilisé pour créer le graphe de connaissances"
      ]
    },
    {
      "cell_type": "code",
      "execution_count": 1,
      "metadata": {
        "colab": {
          "base_uri": "https://localhost:8080/"
        },
        "id": "311eP72iZ5d_",
        "outputId": "36753e81-5aa6-4760-de33-6324ab448968"
      },
      "outputs": [
        {
          "output_type": "stream",
          "name": "stdout",
          "text": [
            "Mounted at /drive\n"
          ]
        }
      ],
      "source": [
        "from google.colab import  drive\n",
        "drive.mount('/drive')"
      ]
    },
    {
      "cell_type": "code",
      "execution_count": 2,
      "metadata": {
        "colab": {
          "base_uri": "https://localhost:8080/"
        },
        "id": "R-B3zH4C0JWj",
        "outputId": "7e15664b-07a8-484c-b754-a31b15dfb5ae"
      },
      "outputs": [
        {
          "output_type": "stream",
          "name": "stdout",
          "text": [
            "Looking in indexes: https://pypi.org/simple, https://us-python.pkg.dev/colab-wheels/public/simple/\n",
            "Collecting torch==1.6.0\n",
            "  Downloading torch-1.6.0-cp38-cp38-manylinux1_x86_64.whl (748.8 MB)\n",
            "\u001b[2K     \u001b[90m━━━━━━━━━━━━━━━━━━━━━━━━━━━━━━━━━━━━━━━\u001b[0m \u001b[32m748.8/748.8 MB\u001b[0m \u001b[31m2.1 MB/s\u001b[0m eta \u001b[36m0:00:00\u001b[0m\n",
            "\u001b[?25hRequirement already satisfied: numpy in /usr/local/lib/python3.8/dist-packages (from torch==1.6.0) (1.21.6)\n",
            "Requirement already satisfied: future in /usr/local/lib/python3.8/dist-packages (from torch==1.6.0) (0.16.0)\n",
            "Installing collected packages: torch\n",
            "  Attempting uninstall: torch\n",
            "    Found existing installation: torch 1.13.0+cu116\n",
            "    Uninstalling torch-1.13.0+cu116:\n",
            "      Successfully uninstalled torch-1.13.0+cu116\n",
            "\u001b[31mERROR: pip's dependency resolver does not currently take into account all the packages that are installed. This behaviour is the source of the following dependency conflicts.\n",
            "torchvision 0.14.0+cu116 requires torch==1.13.0, but you have torch 1.6.0 which is incompatible.\n",
            "torchtext 0.14.0 requires torch==1.13.0, but you have torch 1.6.0 which is incompatible.\n",
            "torchaudio 0.13.0+cu116 requires torch==1.13.0, but you have torch 1.6.0 which is incompatible.\n",
            "fastai 2.7.10 requires torch<1.14,>=1.7, but you have torch 1.6.0 which is incompatible.\u001b[0m\u001b[31m\n",
            "\u001b[0mSuccessfully installed torch-1.6.0\n",
            "Looking in indexes: https://pypi.org/simple, https://us-python.pkg.dev/colab-wheels/public/simple/\n",
            "Collecting transformers\n",
            "  Downloading transformers-4.25.1-py3-none-any.whl (5.8 MB)\n",
            "\u001b[2K     \u001b[90m━━━━━━━━━━━━━━━━━━━━━━━━━━━━━━━━━━━━━━━━\u001b[0m \u001b[32m5.8/5.8 MB\u001b[0m \u001b[31m52.6 MB/s\u001b[0m eta \u001b[36m0:00:00\u001b[0m\n",
            "\u001b[?25hRequirement already satisfied: pyyaml>=5.1 in /usr/local/lib/python3.8/dist-packages (from transformers) (6.0)\n",
            "Requirement already satisfied: requests in /usr/local/lib/python3.8/dist-packages (from transformers) (2.25.1)\n",
            "Collecting tokenizers!=0.11.3,<0.14,>=0.11.1\n",
            "  Downloading tokenizers-0.13.2-cp38-cp38-manylinux_2_17_x86_64.manylinux2014_x86_64.whl (7.6 MB)\n",
            "\u001b[2K     \u001b[90m━━━━━━━━━━━━━━━━━━━━━━━━━━━━━━━━━━━━━━━━\u001b[0m \u001b[32m7.6/7.6 MB\u001b[0m \u001b[31m105.1 MB/s\u001b[0m eta \u001b[36m0:00:00\u001b[0m\n",
            "\u001b[?25hCollecting huggingface-hub<1.0,>=0.10.0\n",
            "  Downloading huggingface_hub-0.11.1-py3-none-any.whl (182 kB)\n",
            "\u001b[2K     \u001b[90m━━━━━━━━━━━━━━━━━━━━━━━━━━━━━━━━━━━━━\u001b[0m \u001b[32m182.4/182.4 KB\u001b[0m \u001b[31m438.3 kB/s\u001b[0m eta \u001b[36m0:00:00\u001b[0m\n",
            "\u001b[?25hRequirement already satisfied: numpy>=1.17 in /usr/local/lib/python3.8/dist-packages (from transformers) (1.21.6)\n",
            "Requirement already satisfied: tqdm>=4.27 in /usr/local/lib/python3.8/dist-packages (from transformers) (4.64.1)\n",
            "Requirement already satisfied: packaging>=20.0 in /usr/local/lib/python3.8/dist-packages (from transformers) (21.3)\n",
            "Requirement already satisfied: filelock in /usr/local/lib/python3.8/dist-packages (from transformers) (3.8.2)\n",
            "Requirement already satisfied: regex!=2019.12.17 in /usr/local/lib/python3.8/dist-packages (from transformers) (2022.6.2)\n",
            "Requirement already satisfied: typing-extensions>=3.7.4.3 in /usr/local/lib/python3.8/dist-packages (from huggingface-hub<1.0,>=0.10.0->transformers) (4.4.0)\n",
            "Requirement already satisfied: pyparsing!=3.0.5,>=2.0.2 in /usr/local/lib/python3.8/dist-packages (from packaging>=20.0->transformers) (3.0.9)\n",
            "Requirement already satisfied: urllib3<1.27,>=1.21.1 in /usr/local/lib/python3.8/dist-packages (from requests->transformers) (1.24.3)\n",
            "Requirement already satisfied: chardet<5,>=3.0.2 in /usr/local/lib/python3.8/dist-packages (from requests->transformers) (4.0.0)\n",
            "Requirement already satisfied: idna<3,>=2.5 in /usr/local/lib/python3.8/dist-packages (from requests->transformers) (2.10)\n",
            "Requirement already satisfied: certifi>=2017.4.17 in /usr/local/lib/python3.8/dist-packages (from requests->transformers) (2022.12.7)\n",
            "Installing collected packages: tokenizers, huggingface-hub, transformers\n",
            "Successfully installed huggingface-hub-0.11.1 tokenizers-0.13.2 transformers-4.25.1\n"
          ]
        }
      ],
      "source": [
        "!pip install torch==1.6.0\n",
        "!pip install transformers"
      ]
    },
    {
      "cell_type": "markdown",
      "metadata": {
        "id": "INRAVkSKpF_8"
      },
      "source": [
        "## **Let's Load our best ner & RE model**"
      ]
    },
    {
      "cell_type": "code",
      "execution_count": 3,
      "metadata": {
        "id": "lvQ8LNNL3cug"
      },
      "outputs": [],
      "source": [
        "import transformers\n",
        "import torch\n",
        "from transformers import BertForTokenClassification, AdamW\n",
        "from transformers import BertTokenizer, BertConfig\n",
        "import pandas as pd\n",
        "from copy import deepcopy\n",
        "from collections import OrderedDict\n",
        "from transformers import pipeline\n",
        "from transformers import AutoTokenizer, AutoModelForTokenClassification\n",
        "from nltk import tokenize"
      ]
    },
    {
      "cell_type": "markdown",
      "metadata": {
        "id": "zzPpCGHDZYAw"
      },
      "source": [
        "**Loading ner model**"
      ]
    },
    {
      "cell_type": "code",
      "execution_count": 4,
      "metadata": {
        "colab": {
          "base_uri": "https://localhost:8080/"
        },
        "id": "YapqzZ6g4EYk",
        "outputId": "baf244b2-5599-4fa9-803b-bb6709f8a971"
      },
      "outputs": [
        {
          "output_type": "stream",
          "name": "stderr",
          "text": [
            "Some weights of BertForTokenClassification were not initialized from the model checkpoint at /drive/My Drive/bestmodel/ and are newly initialized because the shapes did not match:\n",
            "- classifier.weight: found shape torch.Size([9, 768]) in the checkpoint and torch.Size([10, 768]) in the model instantiated\n",
            "- classifier.bias: found shape torch.Size([9]) in the checkpoint and torch.Size([10]) in the model instantiated\n",
            "You should probably TRAIN this model on a down-stream task to be able to use it for predictions and inference.\n"
          ]
        }
      ],
      "source": [
        "# If the tokenizer uses a single vocabulary file, you can point directly to this file\n",
        "tokenizer = AutoTokenizer.from_pretrained('/drive/My Drive/bestmodel/')\n",
        "model = AutoModelForTokenClassification.from_pretrained('/drive/My Drive/bestmodel/', ignore_mismatched_sizes=True)"
      ]
    },
    {
      "cell_type": "code",
      "execution_count": 5,
      "metadata": {
        "id": "ifHuizuAGZJT"
      },
      "outputs": [],
      "source": [
        "device = torch.device(\"cuda\" if torch.cuda.is_available() else \"cpu\")"
      ]
    },
    {
      "cell_type": "code",
      "execution_count": 29,
      "metadata": {
        "id": "vpPZVg2JGOnq"
      },
      "outputs": [],
      "source": [
        "id2label= {\n",
        "    \"-100\": \"IGN\",\n",
        "    \"0\": \"B-DISEASE\",\n",
        "    \"1\": \"I-DISEASE\",\n",
        "    \"2\": \"B-RAREDISEASE\",\n",
        "    \"3\": \"I-RAREDISEASE\",\n",
        "    \"4\": \"B-SIGN\",\n",
        "    \"5\": \"I-SIGN\",\n",
        "    \"6\": \"B-SYMPTOM\",\n",
        "    \"7\": \"I-SYMPTOM\",\n",
        "    \"8\": \"O\",\n",
        "    \"9\":\"O\"\n",
        "  }"
      ]
    },
    {
      "cell_type": "code",
      "execution_count": 7,
      "metadata": {
        "colab": {
          "base_uri": "https://localhost:8080/"
        },
        "id": "nxRSznreazXA",
        "outputId": "7133915a-5ee6-4de1-97ce-b2c16f1fa2bd"
      },
      "outputs": [
        {
          "output_type": "execute_result",
          "data": {
            "text/plain": [
              "BertForTokenClassification(\n",
              "  (bert): BertModel(\n",
              "    (embeddings): BertEmbeddings(\n",
              "      (word_embeddings): Embedding(28996, 768, padding_idx=0)\n",
              "      (position_embeddings): Embedding(512, 768)\n",
              "      (token_type_embeddings): Embedding(2, 768)\n",
              "      (LayerNorm): LayerNorm((768,), eps=1e-12, elementwise_affine=True)\n",
              "      (dropout): Dropout(p=0.1, inplace=False)\n",
              "    )\n",
              "    (encoder): BertEncoder(\n",
              "      (layer): ModuleList(\n",
              "        (0): BertLayer(\n",
              "          (attention): BertAttention(\n",
              "            (self): BertSelfAttention(\n",
              "              (query): Linear(in_features=768, out_features=768, bias=True)\n",
              "              (key): Linear(in_features=768, out_features=768, bias=True)\n",
              "              (value): Linear(in_features=768, out_features=768, bias=True)\n",
              "              (dropout): Dropout(p=0.1, inplace=False)\n",
              "            )\n",
              "            (output): BertSelfOutput(\n",
              "              (dense): Linear(in_features=768, out_features=768, bias=True)\n",
              "              (LayerNorm): LayerNorm((768,), eps=1e-12, elementwise_affine=True)\n",
              "              (dropout): Dropout(p=0.1, inplace=False)\n",
              "            )\n",
              "          )\n",
              "          (intermediate): BertIntermediate(\n",
              "            (dense): Linear(in_features=768, out_features=3072, bias=True)\n",
              "            (intermediate_act_fn): GELUActivation()\n",
              "          )\n",
              "          (output): BertOutput(\n",
              "            (dense): Linear(in_features=3072, out_features=768, bias=True)\n",
              "            (LayerNorm): LayerNorm((768,), eps=1e-12, elementwise_affine=True)\n",
              "            (dropout): Dropout(p=0.1, inplace=False)\n",
              "          )\n",
              "        )\n",
              "        (1): BertLayer(\n",
              "          (attention): BertAttention(\n",
              "            (self): BertSelfAttention(\n",
              "              (query): Linear(in_features=768, out_features=768, bias=True)\n",
              "              (key): Linear(in_features=768, out_features=768, bias=True)\n",
              "              (value): Linear(in_features=768, out_features=768, bias=True)\n",
              "              (dropout): Dropout(p=0.1, inplace=False)\n",
              "            )\n",
              "            (output): BertSelfOutput(\n",
              "              (dense): Linear(in_features=768, out_features=768, bias=True)\n",
              "              (LayerNorm): LayerNorm((768,), eps=1e-12, elementwise_affine=True)\n",
              "              (dropout): Dropout(p=0.1, inplace=False)\n",
              "            )\n",
              "          )\n",
              "          (intermediate): BertIntermediate(\n",
              "            (dense): Linear(in_features=768, out_features=3072, bias=True)\n",
              "            (intermediate_act_fn): GELUActivation()\n",
              "          )\n",
              "          (output): BertOutput(\n",
              "            (dense): Linear(in_features=3072, out_features=768, bias=True)\n",
              "            (LayerNorm): LayerNorm((768,), eps=1e-12, elementwise_affine=True)\n",
              "            (dropout): Dropout(p=0.1, inplace=False)\n",
              "          )\n",
              "        )\n",
              "        (2): BertLayer(\n",
              "          (attention): BertAttention(\n",
              "            (self): BertSelfAttention(\n",
              "              (query): Linear(in_features=768, out_features=768, bias=True)\n",
              "              (key): Linear(in_features=768, out_features=768, bias=True)\n",
              "              (value): Linear(in_features=768, out_features=768, bias=True)\n",
              "              (dropout): Dropout(p=0.1, inplace=False)\n",
              "            )\n",
              "            (output): BertSelfOutput(\n",
              "              (dense): Linear(in_features=768, out_features=768, bias=True)\n",
              "              (LayerNorm): LayerNorm((768,), eps=1e-12, elementwise_affine=True)\n",
              "              (dropout): Dropout(p=0.1, inplace=False)\n",
              "            )\n",
              "          )\n",
              "          (intermediate): BertIntermediate(\n",
              "            (dense): Linear(in_features=768, out_features=3072, bias=True)\n",
              "            (intermediate_act_fn): GELUActivation()\n",
              "          )\n",
              "          (output): BertOutput(\n",
              "            (dense): Linear(in_features=3072, out_features=768, bias=True)\n",
              "            (LayerNorm): LayerNorm((768,), eps=1e-12, elementwise_affine=True)\n",
              "            (dropout): Dropout(p=0.1, inplace=False)\n",
              "          )\n",
              "        )\n",
              "        (3): BertLayer(\n",
              "          (attention): BertAttention(\n",
              "            (self): BertSelfAttention(\n",
              "              (query): Linear(in_features=768, out_features=768, bias=True)\n",
              "              (key): Linear(in_features=768, out_features=768, bias=True)\n",
              "              (value): Linear(in_features=768, out_features=768, bias=True)\n",
              "              (dropout): Dropout(p=0.1, inplace=False)\n",
              "            )\n",
              "            (output): BertSelfOutput(\n",
              "              (dense): Linear(in_features=768, out_features=768, bias=True)\n",
              "              (LayerNorm): LayerNorm((768,), eps=1e-12, elementwise_affine=True)\n",
              "              (dropout): Dropout(p=0.1, inplace=False)\n",
              "            )\n",
              "          )\n",
              "          (intermediate): BertIntermediate(\n",
              "            (dense): Linear(in_features=768, out_features=3072, bias=True)\n",
              "            (intermediate_act_fn): GELUActivation()\n",
              "          )\n",
              "          (output): BertOutput(\n",
              "            (dense): Linear(in_features=3072, out_features=768, bias=True)\n",
              "            (LayerNorm): LayerNorm((768,), eps=1e-12, elementwise_affine=True)\n",
              "            (dropout): Dropout(p=0.1, inplace=False)\n",
              "          )\n",
              "        )\n",
              "        (4): BertLayer(\n",
              "          (attention): BertAttention(\n",
              "            (self): BertSelfAttention(\n",
              "              (query): Linear(in_features=768, out_features=768, bias=True)\n",
              "              (key): Linear(in_features=768, out_features=768, bias=True)\n",
              "              (value): Linear(in_features=768, out_features=768, bias=True)\n",
              "              (dropout): Dropout(p=0.1, inplace=False)\n",
              "            )\n",
              "            (output): BertSelfOutput(\n",
              "              (dense): Linear(in_features=768, out_features=768, bias=True)\n",
              "              (LayerNorm): LayerNorm((768,), eps=1e-12, elementwise_affine=True)\n",
              "              (dropout): Dropout(p=0.1, inplace=False)\n",
              "            )\n",
              "          )\n",
              "          (intermediate): BertIntermediate(\n",
              "            (dense): Linear(in_features=768, out_features=3072, bias=True)\n",
              "            (intermediate_act_fn): GELUActivation()\n",
              "          )\n",
              "          (output): BertOutput(\n",
              "            (dense): Linear(in_features=3072, out_features=768, bias=True)\n",
              "            (LayerNorm): LayerNorm((768,), eps=1e-12, elementwise_affine=True)\n",
              "            (dropout): Dropout(p=0.1, inplace=False)\n",
              "          )\n",
              "        )\n",
              "        (5): BertLayer(\n",
              "          (attention): BertAttention(\n",
              "            (self): BertSelfAttention(\n",
              "              (query): Linear(in_features=768, out_features=768, bias=True)\n",
              "              (key): Linear(in_features=768, out_features=768, bias=True)\n",
              "              (value): Linear(in_features=768, out_features=768, bias=True)\n",
              "              (dropout): Dropout(p=0.1, inplace=False)\n",
              "            )\n",
              "            (output): BertSelfOutput(\n",
              "              (dense): Linear(in_features=768, out_features=768, bias=True)\n",
              "              (LayerNorm): LayerNorm((768,), eps=1e-12, elementwise_affine=True)\n",
              "              (dropout): Dropout(p=0.1, inplace=False)\n",
              "            )\n",
              "          )\n",
              "          (intermediate): BertIntermediate(\n",
              "            (dense): Linear(in_features=768, out_features=3072, bias=True)\n",
              "            (intermediate_act_fn): GELUActivation()\n",
              "          )\n",
              "          (output): BertOutput(\n",
              "            (dense): Linear(in_features=3072, out_features=768, bias=True)\n",
              "            (LayerNorm): LayerNorm((768,), eps=1e-12, elementwise_affine=True)\n",
              "            (dropout): Dropout(p=0.1, inplace=False)\n",
              "          )\n",
              "        )\n",
              "        (6): BertLayer(\n",
              "          (attention): BertAttention(\n",
              "            (self): BertSelfAttention(\n",
              "              (query): Linear(in_features=768, out_features=768, bias=True)\n",
              "              (key): Linear(in_features=768, out_features=768, bias=True)\n",
              "              (value): Linear(in_features=768, out_features=768, bias=True)\n",
              "              (dropout): Dropout(p=0.1, inplace=False)\n",
              "            )\n",
              "            (output): BertSelfOutput(\n",
              "              (dense): Linear(in_features=768, out_features=768, bias=True)\n",
              "              (LayerNorm): LayerNorm((768,), eps=1e-12, elementwise_affine=True)\n",
              "              (dropout): Dropout(p=0.1, inplace=False)\n",
              "            )\n",
              "          )\n",
              "          (intermediate): BertIntermediate(\n",
              "            (dense): Linear(in_features=768, out_features=3072, bias=True)\n",
              "            (intermediate_act_fn): GELUActivation()\n",
              "          )\n",
              "          (output): BertOutput(\n",
              "            (dense): Linear(in_features=3072, out_features=768, bias=True)\n",
              "            (LayerNorm): LayerNorm((768,), eps=1e-12, elementwise_affine=True)\n",
              "            (dropout): Dropout(p=0.1, inplace=False)\n",
              "          )\n",
              "        )\n",
              "        (7): BertLayer(\n",
              "          (attention): BertAttention(\n",
              "            (self): BertSelfAttention(\n",
              "              (query): Linear(in_features=768, out_features=768, bias=True)\n",
              "              (key): Linear(in_features=768, out_features=768, bias=True)\n",
              "              (value): Linear(in_features=768, out_features=768, bias=True)\n",
              "              (dropout): Dropout(p=0.1, inplace=False)\n",
              "            )\n",
              "            (output): BertSelfOutput(\n",
              "              (dense): Linear(in_features=768, out_features=768, bias=True)\n",
              "              (LayerNorm): LayerNorm((768,), eps=1e-12, elementwise_affine=True)\n",
              "              (dropout): Dropout(p=0.1, inplace=False)\n",
              "            )\n",
              "          )\n",
              "          (intermediate): BertIntermediate(\n",
              "            (dense): Linear(in_features=768, out_features=3072, bias=True)\n",
              "            (intermediate_act_fn): GELUActivation()\n",
              "          )\n",
              "          (output): BertOutput(\n",
              "            (dense): Linear(in_features=3072, out_features=768, bias=True)\n",
              "            (LayerNorm): LayerNorm((768,), eps=1e-12, elementwise_affine=True)\n",
              "            (dropout): Dropout(p=0.1, inplace=False)\n",
              "          )\n",
              "        )\n",
              "        (8): BertLayer(\n",
              "          (attention): BertAttention(\n",
              "            (self): BertSelfAttention(\n",
              "              (query): Linear(in_features=768, out_features=768, bias=True)\n",
              "              (key): Linear(in_features=768, out_features=768, bias=True)\n",
              "              (value): Linear(in_features=768, out_features=768, bias=True)\n",
              "              (dropout): Dropout(p=0.1, inplace=False)\n",
              "            )\n",
              "            (output): BertSelfOutput(\n",
              "              (dense): Linear(in_features=768, out_features=768, bias=True)\n",
              "              (LayerNorm): LayerNorm((768,), eps=1e-12, elementwise_affine=True)\n",
              "              (dropout): Dropout(p=0.1, inplace=False)\n",
              "            )\n",
              "          )\n",
              "          (intermediate): BertIntermediate(\n",
              "            (dense): Linear(in_features=768, out_features=3072, bias=True)\n",
              "            (intermediate_act_fn): GELUActivation()\n",
              "          )\n",
              "          (output): BertOutput(\n",
              "            (dense): Linear(in_features=3072, out_features=768, bias=True)\n",
              "            (LayerNorm): LayerNorm((768,), eps=1e-12, elementwise_affine=True)\n",
              "            (dropout): Dropout(p=0.1, inplace=False)\n",
              "          )\n",
              "        )\n",
              "        (9): BertLayer(\n",
              "          (attention): BertAttention(\n",
              "            (self): BertSelfAttention(\n",
              "              (query): Linear(in_features=768, out_features=768, bias=True)\n",
              "              (key): Linear(in_features=768, out_features=768, bias=True)\n",
              "              (value): Linear(in_features=768, out_features=768, bias=True)\n",
              "              (dropout): Dropout(p=0.1, inplace=False)\n",
              "            )\n",
              "            (output): BertSelfOutput(\n",
              "              (dense): Linear(in_features=768, out_features=768, bias=True)\n",
              "              (LayerNorm): LayerNorm((768,), eps=1e-12, elementwise_affine=True)\n",
              "              (dropout): Dropout(p=0.1, inplace=False)\n",
              "            )\n",
              "          )\n",
              "          (intermediate): BertIntermediate(\n",
              "            (dense): Linear(in_features=768, out_features=3072, bias=True)\n",
              "            (intermediate_act_fn): GELUActivation()\n",
              "          )\n",
              "          (output): BertOutput(\n",
              "            (dense): Linear(in_features=3072, out_features=768, bias=True)\n",
              "            (LayerNorm): LayerNorm((768,), eps=1e-12, elementwise_affine=True)\n",
              "            (dropout): Dropout(p=0.1, inplace=False)\n",
              "          )\n",
              "        )\n",
              "        (10): BertLayer(\n",
              "          (attention): BertAttention(\n",
              "            (self): BertSelfAttention(\n",
              "              (query): Linear(in_features=768, out_features=768, bias=True)\n",
              "              (key): Linear(in_features=768, out_features=768, bias=True)\n",
              "              (value): Linear(in_features=768, out_features=768, bias=True)\n",
              "              (dropout): Dropout(p=0.1, inplace=False)\n",
              "            )\n",
              "            (output): BertSelfOutput(\n",
              "              (dense): Linear(in_features=768, out_features=768, bias=True)\n",
              "              (LayerNorm): LayerNorm((768,), eps=1e-12, elementwise_affine=True)\n",
              "              (dropout): Dropout(p=0.1, inplace=False)\n",
              "            )\n",
              "          )\n",
              "          (intermediate): BertIntermediate(\n",
              "            (dense): Linear(in_features=768, out_features=3072, bias=True)\n",
              "            (intermediate_act_fn): GELUActivation()\n",
              "          )\n",
              "          (output): BertOutput(\n",
              "            (dense): Linear(in_features=3072, out_features=768, bias=True)\n",
              "            (LayerNorm): LayerNorm((768,), eps=1e-12, elementwise_affine=True)\n",
              "            (dropout): Dropout(p=0.1, inplace=False)\n",
              "          )\n",
              "        )\n",
              "        (11): BertLayer(\n",
              "          (attention): BertAttention(\n",
              "            (self): BertSelfAttention(\n",
              "              (query): Linear(in_features=768, out_features=768, bias=True)\n",
              "              (key): Linear(in_features=768, out_features=768, bias=True)\n",
              "              (value): Linear(in_features=768, out_features=768, bias=True)\n",
              "              (dropout): Dropout(p=0.1, inplace=False)\n",
              "            )\n",
              "            (output): BertSelfOutput(\n",
              "              (dense): Linear(in_features=768, out_features=768, bias=True)\n",
              "              (LayerNorm): LayerNorm((768,), eps=1e-12, elementwise_affine=True)\n",
              "              (dropout): Dropout(p=0.1, inplace=False)\n",
              "            )\n",
              "          )\n",
              "          (intermediate): BertIntermediate(\n",
              "            (dense): Linear(in_features=768, out_features=3072, bias=True)\n",
              "            (intermediate_act_fn): GELUActivation()\n",
              "          )\n",
              "          (output): BertOutput(\n",
              "            (dense): Linear(in_features=3072, out_features=768, bias=True)\n",
              "            (LayerNorm): LayerNorm((768,), eps=1e-12, elementwise_affine=True)\n",
              "            (dropout): Dropout(p=0.1, inplace=False)\n",
              "          )\n",
              "        )\n",
              "      )\n",
              "    )\n",
              "  )\n",
              "  (dropout): Dropout(p=0.1, inplace=False)\n",
              "  (classifier): Linear(in_features=768, out_features=10, bias=True)\n",
              ")"
            ]
          },
          "metadata": {},
          "execution_count": 7
        }
      ],
      "source": [
        "model.to(device)"
      ]
    },
    {
      "cell_type": "markdown",
      "metadata": {
        "id": "OobZr9PkZeos"
      },
      "source": [
        "**Loading relation extraction model**"
      ]
    },
    {
      "cell_type": "code",
      "execution_count": 8,
      "metadata": {
        "id": "NdJQ5wbqlIiX"
      },
      "outputs": [],
      "source": [
        "rel2id={'<pad>':  0,\n",
        "'produces(e1,e2)':\t1,\n",
        "'anaphora(e1,e2)':\t2,\n",
        "'is_a(e1,e2)':\t3,\n",
        "'is_acron(e1,e2)':\t4,\n",
        "'increases_risk_of(e1,e2)':\t5,\n",
        "'is_synon(e1,e2)':\t6,\n",
        "'produces(e2,e1)':\t7,\n",
        "'anaphora(e2,e1)':\t8,\n",
        "'is_a(e2,e1)':\t9,\n",
        "'is_acron(e2,e1)':\t10,\n",
        "'increases_risk_of(e2,e1)':\t11,\n",
        "'is_synon(e2,e1)':\t12}"
      ]
    },
    {
      "cell_type": "code",
      "execution_count": 9,
      "metadata": {
        "id": "GDZWE_vnZ6_j"
      },
      "outputs": [],
      "source": [
        "id2rel={v: k for k, v in rel2id.items()}"
      ]
    },
    {
      "cell_type": "code",
      "execution_count": 11,
      "metadata": {
        "id": "5EwIXuFCgHVD"
      },
      "outputs": [],
      "source": [
        "import ast\n",
        "file = open(\"w2id.txt\", \"r\")\n",
        "\n",
        "contents = file.read()\n",
        "word2id = ast.literal_eval(contents)\n",
        "\n",
        "file.close()"
      ]
    },
    {
      "cell_type": "code",
      "execution_count": 12,
      "metadata": {
        "id": "P1XWFzaSEpnv"
      },
      "outputs": [],
      "source": [
        "word_vec=torch.load('/drive/My Drive/tensors.pt')"
      ]
    },
    {
      "cell_type": "code",
      "execution_count": 13,
      "metadata": {
        "id": "7OgKK_wCgls7"
      },
      "outputs": [],
      "source": [
        "import re\n",
        "def search_entity(sentence):\n",
        "    e1 = re.findall(r'<e1>(.*)</e1>', sentence)[0]\n",
        "    e2 = re.findall(r'<e2>(.*)</e2>', sentence)[0]\n",
        "    sentence = sentence.replace('<e1>' + e1 + '</e1>', ' <e1> ' + e1 + ' </e1> ', 1)\n",
        "    sentence = sentence.replace('<e2>' + e2 + '</e2>', ' <e2> ' + e2 + ' </e2> ', 1)\n",
        "    sentence = sentence.split()\n",
        "    sentence = ' '.join(sentence)\n",
        "    sentence = sentence.replace('< e1 >', '<e1>')\n",
        "    sentence = sentence.replace('< e2 >', '<e2>')\n",
        "    sentence = sentence.replace('< /e1 >', '</e1>')\n",
        "    sentence = sentence.replace('< /e2 >', '</e2>')\n",
        "    sentence = sentence.split()\n",
        "\n",
        "    assert '<e1>' in sentence\n",
        "    assert '<e2>' in sentence\n",
        "    assert '</e1>' in sentence\n",
        "    assert '</e2>' in sentence\n",
        "\n",
        "    return sentence"
      ]
    },
    {
      "cell_type": "code",
      "execution_count": 14,
      "metadata": {
        "id": "SM6WYec5a5ys"
      },
      "outputs": [],
      "source": [
        "import json\n",
        "def convert(path_src, path_des):\n",
        "    with open(path_src, 'r', encoding='utf-8') as fr:\n",
        "        data = fr.readlines()\n",
        "        \n",
        "    with open(path_des, 'w', encoding='utf-8') as fw:\n",
        "        for i in range(0, len(data), 3):\n",
        "            id_s, sentence = data[i].strip().split('  ')\n",
        "            sentence = sentence[1:len(sentence)]\n",
        "            sentence = search_entity(sentence)\n",
        "            meta = dict(\n",
        "                id=id_s,\n",
        "                relation=data[i+1].strip(),\n",
        "                sentence=sentence,\n",
        "                \n",
        "            )\n",
        "            json.dump(meta, fw, ensure_ascii=False)\n",
        "            fw.write('\\n')"
      ]
    },
    {
      "cell_type": "code",
      "execution_count": 15,
      "metadata": {
        "id": "p-Az1YBbbTxf"
      },
      "outputs": [],
      "source": [
        "import numpy as np\n",
        "class BrevetsDataLoader(object):\n",
        "    def __init__(self, rel2id, word2id, batch_size, max_len):\n",
        "        self.rel2id = rel2id\n",
        "        self.word2id = word2id\n",
        "        self.batch_size = batch_size\n",
        "        self.max_len = max_len\n",
        "\n",
        "    def __collate_fn(self, batch):\n",
        "        data = zip(*batch)  # unzip the batch data\n",
        "        data = list(data)\n",
        "        #label = list(label)\n",
        "        data = torch.from_numpy(np.concatenate(data, axis=0))\n",
        "        #label = torch.from_numpy(np.asarray(label, dtype=np.int64))\n",
        "        return data\n",
        "\n",
        "    def __get_data(self, filename,  shuffle=False):\n",
        "        dataset = BrevetsDateset(filename, self.rel2id, self.word2id, self.max_len)\n",
        "        loader = DataLoader(\n",
        "            dataset=dataset,\n",
        "            batch_size= self.batch_size,\n",
        "            shuffle=shuffle,\n",
        "            num_workers=2,\n",
        "            collate_fn=self.__collate_fn\n",
        "        )\n",
        "        return loader\n",
        "    def get_test(self):\n",
        "        return self.__get_data('sentence.json', shuffle=False)\n",
        "\n",
        "batch_size = 10\n",
        "max_len = 90\n",
        "loader = BrevetsDataLoader(rel2id, word2id, batch_size, max_len)\n",
        "\n",
        "#test_loader = loader.get_test()"
      ]
    },
    {
      "cell_type": "code",
      "execution_count": 16,
      "metadata": {
        "id": "y5df5txlDPct"
      },
      "outputs": [],
      "source": [
        "import torch\n",
        "import torch.nn as nn\n",
        "import torch.nn.functional as F\n",
        "from torch.nn import init\n",
        "from torch.nn.utils.rnn import pack_padded_sequence, pad_packed_sequence\n",
        "\n",
        "\n",
        "class Att_BLSTM(nn.Module):\n",
        "    def __init__(self, word_vec, class_num, max_len, word_dim, hidden_size, layers_num, dropout):\n",
        "        super().__init__()\n",
        "        self.word_vec = word_vec\n",
        "        self.class_num = class_num\n",
        "\n",
        "        self.max_len = max_len\n",
        "        self.word_dim = word_dim\n",
        "        self.hidden_size = hidden_size\n",
        "        self.layers_num = layers_num\n",
        "        self.dropout_value = dropout\n",
        "\n",
        "        self.word_embedding = nn.Embedding.from_pretrained(\n",
        "            embeddings=self.word_vec,\n",
        "            freeze=False,\n",
        "        )\n",
        "        self.lstm = nn.LSTM(\n",
        "            input_size=self.word_dim,\n",
        "            hidden_size=self.hidden_size,\n",
        "            num_layers=self.layers_num,\n",
        "            bias=True,\n",
        "            batch_first=True,\n",
        "            dropout=self.dropout_value,\n",
        "            bidirectional=True,\n",
        "        )\n",
        "        self.tanh = nn.Tanh()\n",
        "        self.dropout = nn.Dropout(self.dropout_value)\n",
        "\n",
        "        self.att_weight = nn.Parameter(torch.randn(1, self.hidden_size, 1))\n",
        "        self.dense = nn.Linear(\n",
        "            in_features=self.hidden_size,\n",
        "            out_features=self.class_num,\n",
        "            bias=True\n",
        "        )\n",
        "        init.xavier_normal_(self.dense.weight)\n",
        "        init.constant_(self.dense.bias, 0.)\n",
        "\n",
        "    def lstm_layer(self, x, mask):\n",
        "        lengths = torch.sum(mask.gt(0), dim=-1)\n",
        "        x = pack_padded_sequence(x, lengths, batch_first=True, enforce_sorted=False)\n",
        "        h, (_, _) = self.lstm(x)\n",
        "        h, _ = pad_packed_sequence(h, batch_first=True, padding_value=0.0, total_length=self.max_len)\n",
        "        h = h.view(-1, self.max_len, 2, self.hidden_size)\n",
        "        h = torch.sum(h, dim=2)  \n",
        "        return h\n",
        "\n",
        "    def attention_layer(self, h, mask):\n",
        "        att_weight = self.att_weight.expand(mask.shape[0], -1, -1) \n",
        "        att_score = torch.bmm(self.tanh(h), att_weight)  \n",
        "        mask = mask.unsqueeze(dim=-1)  \n",
        "        att_score = att_score.masked_fill(mask.eq(0), float('-inf')) \n",
        "        att_weight = F.softmax(att_score, dim=1) \n",
        "        reps = torch.bmm(h.transpose(1, 2), att_weight).squeeze(dim=-1) \n",
        "        reps = self.tanh(reps)  \n",
        "        return reps\n",
        "\n",
        "    def forward(self, data):\n",
        "        token = data[:, 0, :].contiguous().view(-1, self.max_len)\n",
        "        mask = data[:, 1, :].contiguous().view(-1, self.max_len)\n",
        "        emb = self.word_embedding(token) \n",
        "        emb = self.dropout(emb)\n",
        "        h = self.lstm_layer(emb, mask) \n",
        "        h = self.dropout(h)\n",
        "        reps = self.attention_layer(h, mask) \n",
        "        reps = self.dropout(reps)\n",
        "        logits = self.dense(reps)\n",
        "        return logits"
      ]
    },
    {
      "cell_type": "code",
      "execution_count": 17,
      "metadata": {
        "id": "h2IYncqRDQZ1",
        "colab": {
          "base_uri": "https://localhost:8080/"
        },
        "outputId": "621cf0fb-5b9d-469d-c9a5-4fa81be9199f"
      },
      "outputs": [
        {
          "output_type": "stream",
          "name": "stderr",
          "text": [
            "/usr/local/lib/python3.8/dist-packages/torch/nn/modules/rnn.py:57: UserWarning: dropout option adds dropout after all but last recurrent layer, so non-zero dropout expects num_layers greater than 1, but got dropout=0.5 and num_layers=1\n",
            "  warnings.warn(\"dropout option adds dropout after all but last \"\n"
          ]
        }
      ],
      "source": [
        "model_re = Att_BLSTM(word_vec = word_vec, class_num = 13, max_len = 90, word_dim = 300, hidden_size = 100, layers_num = 1, dropout = 0.5).to(device)"
      ]
    },
    {
      "cell_type": "code",
      "execution_count": 18,
      "metadata": {
        "id": "jHaPdaUpF1cn",
        "colab": {
          "base_uri": "https://localhost:8080/"
        },
        "outputId": "be7663c5-20be-4414-cf84-e6a13356675b"
      },
      "outputs": [
        {
          "output_type": "execute_result",
          "data": {
            "text/plain": [
              "Att_BLSTM(\n",
              "  (word_embedding): Embedding(400006, 300)\n",
              "  (lstm): LSTM(300, 100, batch_first=True, dropout=0.5, bidirectional=True)\n",
              "  (tanh): Tanh()\n",
              "  (dropout): Dropout(p=0.5, inplace=False)\n",
              "  (dense): Linear(in_features=100, out_features=13, bias=True)\n",
              ")"
            ]
          },
          "metadata": {},
          "execution_count": 18
        }
      ],
      "source": [
        "model_re.load_state_dict(torch.load('/drive/My Drive/tut2-model_ner.pt'))\n",
        "model_re.eval()"
      ]
    },
    {
      "cell_type": "code",
      "execution_count": 30,
      "metadata": {
        "id": "mXKXQUCkF4Cd"
      },
      "outputs": [],
      "source": [
        "def align_tokens_and_predicted_labels(toks_cpu, preds_cpu):\n",
        "  #print(toks_cpu)\n",
        "  #print(preds_cpu)\n",
        "  aligned_toks, aligned_preds = [], []\n",
        "  prev_tok = None\n",
        "  for tok, pred in zip(toks_cpu, preds_cpu):\n",
        "    if tok.startswith(\"##\") and prev_tok is not None:\n",
        "      prev_tok += tok[2:]\n",
        "    else:\n",
        "      if prev_tok is not None:\n",
        "        aligned_toks.append(prev_tok)\n",
        "        aligned_preds.append(id2label[str(prev_pred)])\n",
        "      prev_tok = tok\n",
        "      prev_pred = pred\n",
        "  if prev_tok is not None:\n",
        "    aligned_toks.append(prev_tok)\n",
        "    aligned_preds.append(id2label[str(prev_pred)])\n",
        "  return aligned_toks, aligned_preds\n",
        "\n",
        "\n",
        "def predict(texts):\n",
        "  aligned_tok_list, aligned_pred_list = [], []\n",
        "  for text in texts:\n",
        "    \n",
        "    inputs = tokenizer(text, return_tensors=\"pt\").to(device)\n",
        "    outputs = model(**inputs)\n",
        "    tokens_cpu = tokenizer.convert_ids_to_tokens(inputs.input_ids.view(-1))\n",
        "    preds_cpu = torch.argmax(outputs.logits, dim=-1)[0].cpu().numpy()\n",
        "\n",
        "    aligned_toks, aligned_preds = align_tokens_and_predicted_labels(tokens_cpu, preds_cpu)\n",
        "\n",
        "    aligned_tok_list.append(aligned_toks)\n",
        "    aligned_pred_list.append(aligned_preds)\n",
        "\n",
        "  return aligned_tok_list, aligned_pred_list\n"
      ]
    },
    {
      "cell_type": "markdown",
      "metadata": {
        "id": "y1-8yFBPbAq1"
      },
      "source": [
        "### After loading best ner & re models , let's apply them to our corpus"
      ]
    },
    {
      "cell_type": "code",
      "execution_count": 20,
      "metadata": {
        "id": "f6ZDwDNC2YL4"
      },
      "outputs": [],
      "source": [
        "import glob\n",
        "path='/drive/MyDrive/corpus'\n",
        "all_files = glob.glob(path + \"/*\")"
      ]
    },
    {
      "cell_type": "code",
      "execution_count": 21,
      "metadata": {
        "id": "myZX6CqgeH5s",
        "colab": {
          "base_uri": "https://localhost:8080/"
        },
        "outputId": "f6aa3365-b9bf-438a-b055-5c2c568e5319"
      },
      "outputs": [
        {
          "output_type": "stream",
          "name": "stdout",
          "text": [
            "/drive/MyDrive/corpus/WAS-Related-Disorders.txt\n"
          ]
        }
      ],
      "source": [
        "text_files=glob.glob(path+\"/*.txt\")\n",
        "for x in text_files:\n",
        "      print(x)\n",
        "      break"
      ]
    },
    {
      "cell_type": "markdown",
      "metadata": {
        "id": "Kyw0MJWX77hy"
      },
      "source": [
        "- read each file\n",
        "- get sentences\n",
        "- extract entities from each sentence using ner model\n",
        "- if a sentence got two entities : surround them with la balise e then apply relation extraction model \n",
        "- store in a dataframe the following informations : \"entity1\" , \"tag1\", \"relation_label\",\"entity2\",\"tag2\"\n",
        "- create a kg using py2neo\n"
      ]
    },
    {
      "cell_type": "code",
      "execution_count": 22,
      "metadata": {
        "id": "e_yD95zdiPf4"
      },
      "outputs": [],
      "source": [
        "source=[]\n",
        "target=[]\n",
        "relation=[]\n",
        "tags1=[]\n",
        "tags2=[]"
      ]
    },
    {
      "cell_type": "code",
      "execution_count": 23,
      "metadata": {
        "id": "92WZ7PPfj1wi"
      },
      "outputs": [],
      "source": [
        "def get_prediction(model, iterator):\n",
        "  predict_label=[]\n",
        "  for _, data in enumerate(iterator):\n",
        "            data = data.to(device)\n",
        "\n",
        "            logits = model(data)\n",
        "            \n",
        "\n",
        "            _, pred = torch.max(logits, dim=1)  \n",
        "            pred = pred.cpu().detach().numpy().reshape((-1, 1))\n",
        "            predict_label.append(pred)\n",
        "            predict_label = np.concatenate(predict_label, axis=0).reshape(-1).astype(np.int64)\n",
        "  return(predict_label)"
      ]
    },
    {
      "cell_type": "code",
      "execution_count": 24,
      "metadata": {
        "id": "n4UWgV5yNLaE"
      },
      "outputs": [],
      "source": [
        "import os\n",
        "import json\n",
        "import torch\n",
        "import numpy as np\n",
        "from torch.utils.data import Dataset, DataLoader"
      ]
    },
    {
      "cell_type": "code",
      "execution_count": 25,
      "metadata": {
        "id": "x9D8dKMqBWpG"
      },
      "outputs": [],
      "source": [
        "class BrevetsDateset(Dataset):\n",
        "    def __init__(self, filename, rel2id, word2id, max_len):\n",
        "        self.filename = filename\n",
        "        self.rel2id = rel2id\n",
        "        self.word2id = word2id\n",
        "        self.max_len = max_len\n",
        "        self.data_dir = ''\n",
        "        self.dataset = self.__load_data()\n",
        "\n",
        "    def __symbolize_sentence(self, sentence):\n",
        "      \n",
        "        mask = [1] * len(sentence)\n",
        "        words = []\n",
        "        length = min(self.max_len, len(sentence))\n",
        "        mask = mask[:length]\n",
        "\n",
        "        for i in range(length):\n",
        "            words.append(self.word2id.get(sentence[i].lower(), self.word2id['UNK']))\n",
        "\n",
        "        if length < self.max_len:\n",
        "            for i in range(length, self.max_len):\n",
        "                mask.append(0)  # 'PAD' mask is zero\n",
        "                words.append(self.word2id['PAD'])\n",
        "\n",
        "        unit = np.asarray([words, mask], dtype=np.int64)\n",
        "        unit = np.reshape(unit, newshape=(1, 2, self.max_len))\n",
        "        return unit\n",
        "\n",
        "    def __load_data(self):\n",
        "        path_data_file = os.path.join(self.data_dir, self.filename)\n",
        "        data = []\n",
        "        #labels = []\n",
        "        with open(path_data_file, 'r', encoding='utf-8') as fr:\n",
        "            for line in fr:\n",
        "                line = json.loads(line.strip())\n",
        "                #label = line['relation']\n",
        "                sentence = line['sentence']\n",
        "                #label_idx = self.rel2id[label]\n",
        "\n",
        "                one_sentence = self.__symbolize_sentence(sentence)\n",
        "                data.append(one_sentence)\n",
        "                #labels.append(label_idx)\n",
        "        return data\n",
        "\n",
        "    def __getitem__(self, index):\n",
        "        index=0\n",
        "        data = self.dataset[index]\n",
        "        #label = self.label[index]\n",
        "        return data\n",
        "    def __len__(self):\n",
        "        return len('relation')"
      ]
    },
    {
      "cell_type": "code",
      "execution_count": 26,
      "metadata": {
        "id": "EfxRfD7UBeha",
        "colab": {
          "base_uri": "https://localhost:8080/"
        },
        "outputId": "41e1ac51-6052-4b75-e415-5e0307f567fe"
      },
      "outputs": [
        {
          "output_type": "stream",
          "name": "stderr",
          "text": [
            "[nltk_data] Downloading package punkt to /root/nltk_data...\n",
            "[nltk_data]   Unzipping tokenizers/punkt.zip.\n"
          ]
        },
        {
          "output_type": "execute_result",
          "data": {
            "text/plain": [
              "True"
            ]
          },
          "metadata": {},
          "execution_count": 26
        }
      ],
      "source": [
        "import nltk\n",
        "nltk.download('punkt')"
      ]
    },
    {
      "cell_type": "code",
      "execution_count": 27,
      "metadata": {
        "id": "XEOV7x1EBkq7"
      },
      "outputs": [],
      "source": [
        "# remove extra spaces and ending space if any\n",
        "import re\n",
        "spaces = ['\\u200b', '\\u200e', '\\u202a', '\\u202c', '\\ufeff', '\\uf0d8', '\\u2061', '\\x10', '\\x7f', '\\x9d', '\\xad', '\\xa0']\n",
        "def remove_space(text):\n",
        "    for space in spaces:\n",
        "        text = text.replace(space, ' ')\n",
        "    text = text.strip()\n",
        "    text = re.sub('\\s+', ' ', text)\n",
        "    return text"
      ]
    },
    {
      "cell_type": "code",
      "execution_count": 31,
      "metadata": {
        "id": "BFtcvOwG2mNS"
      },
      "outputs": [],
      "source": [
        "id=0\n",
        "for file in text_files:\n",
        "    with open(file, 'r', encoding = 'utf-8') as f:\n",
        "        text = f.read()\n",
        "    text=text.replace('\\n',' ')\n",
        "    text=remove_space(text)\n",
        "    sentences=tokenize.sent_tokenize(text)\n",
        "    sentences=[[s[:512]] for s in sentences] # I returned it this form so that i can apply ner model on each sentence  \n",
        "    predicted_tokens, predicted_tags = predict(sentences)\n",
        "    for i in range (len(sentences)):\n",
        "      firstTag=True\n",
        "      sentence=\"\"\n",
        "      other=['O' for o in range (len(predicted_tags[i]))] # sentence which doesnt contain any tag\n",
        "      if predicted_tags[i] != other: \n",
        "        for tok in range (len(predicted_tokens[i])):\n",
        "          if predicted_tags[i][tok]=='O':\n",
        "            sentence=sentence+' '+predicted_tokens[i][tok]\n",
        "          elif predicted_tokens[i][tok]!='[SEP]' and predicted_tags[i][tok].startswith('B-') and firstTag:\n",
        "            tag1=predicted_tags[i][tok][2:]\n",
        "            if tok!=(len(predicted_tags[i])-1) and predicted_tags[i][tok+1].startswith('I-'):\n",
        "              sentence=sentence+' '+'<e1>'+predicted_tokens[i][tok]\n",
        "            else:\n",
        "              sentence=sentence+' '+'<e1>'+predicted_tokens[i][tok]+'</e1>'\n",
        "            firstTag=False\n",
        "          elif predicted_tokens[i][tok]!='[SEP]' and predicted_tags[i][tok].startswith('B-') and firstTag is False:\n",
        "            tag2=predicted_tags[i][tok][2:]\n",
        "            if tok!=(len(predicted_tags[i])-1) and predicted_tags[i][tok+1].startswith('I-') and predicted_tokens[i][tok+1]!='[SEP]':\n",
        "              sentence=sentence+' '+'<e2>'+predicted_tokens[i][tok]\n",
        "            else:\n",
        "              sentence=sentence+' '+'<e2>'+predicted_tokens[i][tok]+'</e2>'\n",
        "          else:\n",
        "            if predicted_tokens[i][tok]!='[SEP]':\n",
        "              if tok!=(len(predicted_tags[i])-1) and predicted_tags[i][tok+1].startswith('I-') and predicted_tokens[i][tok+1]!='[SEP]' :\n",
        "                 sentence=sentence+' '+predicted_tokens[i][tok]\n",
        "              else:\n",
        "                 if \"<e2>\" in sentence:\n",
        "                   sentence=sentence+' '+predicted_tokens[i][tok]+\"</e2>\"\n",
        "                 else:\n",
        "                   sentence=sentence+' '+predicted_tokens[i][tok]+'</e1>'\n",
        "\n",
        "\n",
        "      if sentence.count(\"<e1>\")==1 and sentence.count(\"<e2>\")==1:\n",
        "        m=sentence.find('<e1>')  \n",
        "        n=sentence.find('</e1>')\n",
        "        k=m+4\n",
        "        entity1=sentence[k:n] \n",
        "        p= sentence.find('<e2>')\n",
        "        q=sentence.find('</e2>')\n",
        "        y=p+4\n",
        "        entity2=sentence[y:q]\n",
        "        #write sentence in text file\n",
        "        with open('sentence.txt', 'w') as f:\n",
        "           id=1\n",
        "           f.write(str(id)+'  '+sentence)\n",
        "           f.write(\"\\n\")\n",
        "           f.write('relation')\n",
        "        f.close()\n",
        "        convert('sentence.txt','sentence.json')\n",
        "        test_loader = loader.get_test()\n",
        "        pred=get_prediction(model_re, test_loader)\n",
        "        rel=id2rel[pred[0]]\n",
        "        if \"(e1,e2)\" in rel:\n",
        "          source.append(entity1)\n",
        "          target.append(entity2)\n",
        "          relation.append(rel[:-7])\n",
        "          tags1.append(tag1)\n",
        "          tags2.append(tag2)\n",
        "        else:\n",
        "          source.append(entity2)\n",
        "          target.append(entity1)\n",
        "          relation.append(rel[:-7])\n",
        "          tags1.append(tag2)\n",
        "          tags2.append(tag1)\n"
      ]
    },
    {
      "cell_type": "code",
      "execution_count": 32,
      "metadata": {
        "id": "59eUimG6Bam8"
      },
      "outputs": [],
      "source": [
        "data2=pd.DataFrame({\n",
        "    'source':source,\n",
        "    'tag1':tags1,\n",
        "    'relation_label':relation,\n",
        "    'target':target,\n",
        "    'tag2':tags2\n",
        "})"
      ]
    },
    {
      "cell_type": "code",
      "execution_count": 34,
      "metadata": {
        "id": "UpMOcc_qS3em",
        "colab": {
          "base_uri": "https://localhost:8080/",
          "height": 589
        },
        "outputId": "470c5b32-bff5-4393-fe1e-97cdb54a81b2"
      },
      "outputs": [
        {
          "output_type": "execute_result",
          "data": {
            "text/plain": [
              "                                source         tag1 relation_label  \\\n",
              "0    x - linked congenital neutropenia  RAREDISEASE       is_acron   \n",
              "1                                [CLS]      DISEASE       produces   \n",
              "2                                       RAREDISEASE       produces   \n",
              "3       wolfram syndrome affects males  RAREDISEASE       anaphora   \n",
              "4                        weil syndrome  RAREDISEASE       produces   \n",
              "..                                 ...          ...            ...   \n",
              "752                              heart  RAREDISEASE       produces   \n",
              "753                                            SIGN           is_a   \n",
              "754                                 in         SIGN       produces   \n",
              "755                                     RAREDISEASE       produces   \n",
              "756                              [CLS]  RAREDISEASE       produces   \n",
              "\n",
              "                           target         tag2  \n",
              "0      wiskott - aldrich syndrome  RAREDISEASE  \n",
              "1                        bleeding      DISEASE  \n",
              "2                  to adolescence      DISEASE  \n",
              "3    and females in equal numbers      DISEASE  \n",
              "4                   leptospirosis  RAREDISEASE  \n",
              "..                            ...          ...  \n",
              "752           defects are present      DISEASE  \n",
              "753           widespread symptoms         SIGN  \n",
              "754                            be      DISEASE  \n",
              "755                           the         SIGN  \n",
              "756  / or cardiac catheterization      DISEASE  \n",
              "\n",
              "[757 rows x 5 columns]"
            ],
            "text/html": [
              "\n",
              "  <div id=\"df-0b8fe9f8-95e0-4fe8-bf53-8cdc4bf3b606\">\n",
              "    <div class=\"colab-df-container\">\n",
              "      <div>\n",
              "<style scoped>\n",
              "    .dataframe tbody tr th:only-of-type {\n",
              "        vertical-align: middle;\n",
              "    }\n",
              "\n",
              "    .dataframe tbody tr th {\n",
              "        vertical-align: top;\n",
              "    }\n",
              "\n",
              "    .dataframe thead th {\n",
              "        text-align: right;\n",
              "    }\n",
              "</style>\n",
              "<table border=\"1\" class=\"dataframe\">\n",
              "  <thead>\n",
              "    <tr style=\"text-align: right;\">\n",
              "      <th></th>\n",
              "      <th>source</th>\n",
              "      <th>tag1</th>\n",
              "      <th>relation_label</th>\n",
              "      <th>target</th>\n",
              "      <th>tag2</th>\n",
              "    </tr>\n",
              "  </thead>\n",
              "  <tbody>\n",
              "    <tr>\n",
              "      <th>0</th>\n",
              "      <td>x - linked congenital neutropenia</td>\n",
              "      <td>RAREDISEASE</td>\n",
              "      <td>is_acron</td>\n",
              "      <td>wiskott - aldrich syndrome</td>\n",
              "      <td>RAREDISEASE</td>\n",
              "    </tr>\n",
              "    <tr>\n",
              "      <th>1</th>\n",
              "      <td>[CLS]</td>\n",
              "      <td>DISEASE</td>\n",
              "      <td>produces</td>\n",
              "      <td>bleeding</td>\n",
              "      <td>DISEASE</td>\n",
              "    </tr>\n",
              "    <tr>\n",
              "      <th>2</th>\n",
              "      <td></td>\n",
              "      <td>RAREDISEASE</td>\n",
              "      <td>produces</td>\n",
              "      <td>to adolescence</td>\n",
              "      <td>DISEASE</td>\n",
              "    </tr>\n",
              "    <tr>\n",
              "      <th>3</th>\n",
              "      <td>wolfram syndrome affects males</td>\n",
              "      <td>RAREDISEASE</td>\n",
              "      <td>anaphora</td>\n",
              "      <td>and females in equal numbers</td>\n",
              "      <td>DISEASE</td>\n",
              "    </tr>\n",
              "    <tr>\n",
              "      <th>4</th>\n",
              "      <td>weil syndrome</td>\n",
              "      <td>RAREDISEASE</td>\n",
              "      <td>produces</td>\n",
              "      <td>leptospirosis</td>\n",
              "      <td>RAREDISEASE</td>\n",
              "    </tr>\n",
              "    <tr>\n",
              "      <th>...</th>\n",
              "      <td>...</td>\n",
              "      <td>...</td>\n",
              "      <td>...</td>\n",
              "      <td>...</td>\n",
              "      <td>...</td>\n",
              "    </tr>\n",
              "    <tr>\n",
              "      <th>752</th>\n",
              "      <td>heart</td>\n",
              "      <td>RAREDISEASE</td>\n",
              "      <td>produces</td>\n",
              "      <td>defects are present</td>\n",
              "      <td>DISEASE</td>\n",
              "    </tr>\n",
              "    <tr>\n",
              "      <th>753</th>\n",
              "      <td></td>\n",
              "      <td>SIGN</td>\n",
              "      <td>is_a</td>\n",
              "      <td>widespread symptoms</td>\n",
              "      <td>SIGN</td>\n",
              "    </tr>\n",
              "    <tr>\n",
              "      <th>754</th>\n",
              "      <td>in</td>\n",
              "      <td>SIGN</td>\n",
              "      <td>produces</td>\n",
              "      <td>be</td>\n",
              "      <td>DISEASE</td>\n",
              "    </tr>\n",
              "    <tr>\n",
              "      <th>755</th>\n",
              "      <td></td>\n",
              "      <td>RAREDISEASE</td>\n",
              "      <td>produces</td>\n",
              "      <td>the</td>\n",
              "      <td>SIGN</td>\n",
              "    </tr>\n",
              "    <tr>\n",
              "      <th>756</th>\n",
              "      <td>[CLS]</td>\n",
              "      <td>RAREDISEASE</td>\n",
              "      <td>produces</td>\n",
              "      <td>/ or cardiac catheterization</td>\n",
              "      <td>DISEASE</td>\n",
              "    </tr>\n",
              "  </tbody>\n",
              "</table>\n",
              "<p>757 rows × 5 columns</p>\n",
              "</div>\n",
              "      <button class=\"colab-df-convert\" onclick=\"convertToInteractive('df-0b8fe9f8-95e0-4fe8-bf53-8cdc4bf3b606')\"\n",
              "              title=\"Convert this dataframe to an interactive table.\"\n",
              "              style=\"display:none;\">\n",
              "        \n",
              "  <svg xmlns=\"http://www.w3.org/2000/svg\" height=\"24px\"viewBox=\"0 0 24 24\"\n",
              "       width=\"24px\">\n",
              "    <path d=\"M0 0h24v24H0V0z\" fill=\"none\"/>\n",
              "    <path d=\"M18.56 5.44l.94 2.06.94-2.06 2.06-.94-2.06-.94-.94-2.06-.94 2.06-2.06.94zm-11 1L8.5 8.5l.94-2.06 2.06-.94-2.06-.94L8.5 2.5l-.94 2.06-2.06.94zm10 10l.94 2.06.94-2.06 2.06-.94-2.06-.94-.94-2.06-.94 2.06-2.06.94z\"/><path d=\"M17.41 7.96l-1.37-1.37c-.4-.4-.92-.59-1.43-.59-.52 0-1.04.2-1.43.59L10.3 9.45l-7.72 7.72c-.78.78-.78 2.05 0 2.83L4 21.41c.39.39.9.59 1.41.59.51 0 1.02-.2 1.41-.59l7.78-7.78 2.81-2.81c.8-.78.8-2.07 0-2.86zM5.41 20L4 18.59l7.72-7.72 1.47 1.35L5.41 20z\"/>\n",
              "  </svg>\n",
              "      </button>\n",
              "      \n",
              "  <style>\n",
              "    .colab-df-container {\n",
              "      display:flex;\n",
              "      flex-wrap:wrap;\n",
              "      gap: 12px;\n",
              "    }\n",
              "\n",
              "    .colab-df-convert {\n",
              "      background-color: #E8F0FE;\n",
              "      border: none;\n",
              "      border-radius: 50%;\n",
              "      cursor: pointer;\n",
              "      display: none;\n",
              "      fill: #1967D2;\n",
              "      height: 32px;\n",
              "      padding: 0 0 0 0;\n",
              "      width: 32px;\n",
              "    }\n",
              "\n",
              "    .colab-df-convert:hover {\n",
              "      background-color: #E2EBFA;\n",
              "      box-shadow: 0px 1px 2px rgba(60, 64, 67, 0.3), 0px 1px 3px 1px rgba(60, 64, 67, 0.15);\n",
              "      fill: #174EA6;\n",
              "    }\n",
              "\n",
              "    [theme=dark] .colab-df-convert {\n",
              "      background-color: #3B4455;\n",
              "      fill: #D2E3FC;\n",
              "    }\n",
              "\n",
              "    [theme=dark] .colab-df-convert:hover {\n",
              "      background-color: #434B5C;\n",
              "      box-shadow: 0px 1px 3px 1px rgba(0, 0, 0, 0.15);\n",
              "      filter: drop-shadow(0px 1px 2px rgba(0, 0, 0, 0.3));\n",
              "      fill: #FFFFFF;\n",
              "    }\n",
              "  </style>\n",
              "\n",
              "      <script>\n",
              "        const buttonEl =\n",
              "          document.querySelector('#df-0b8fe9f8-95e0-4fe8-bf53-8cdc4bf3b606 button.colab-df-convert');\n",
              "        buttonEl.style.display =\n",
              "          google.colab.kernel.accessAllowed ? 'block' : 'none';\n",
              "\n",
              "        async function convertToInteractive(key) {\n",
              "          const element = document.querySelector('#df-0b8fe9f8-95e0-4fe8-bf53-8cdc4bf3b606');\n",
              "          const dataTable =\n",
              "            await google.colab.kernel.invokeFunction('convertToInteractive',\n",
              "                                                     [key], {});\n",
              "          if (!dataTable) return;\n",
              "\n",
              "          const docLinkHtml = 'Like what you see? Visit the ' +\n",
              "            '<a target=\"_blank\" href=https://colab.research.google.com/notebooks/data_table.ipynb>data table notebook</a>'\n",
              "            + ' to learn more about interactive tables.';\n",
              "          element.innerHTML = '';\n",
              "          dataTable['output_type'] = 'display_data';\n",
              "          await google.colab.output.renderOutput(dataTable, element);\n",
              "          const docLink = document.createElement('div');\n",
              "          docLink.innerHTML = docLinkHtml;\n",
              "          element.appendChild(docLink);\n",
              "        }\n",
              "      </script>\n",
              "    </div>\n",
              "  </div>\n",
              "  "
            ]
          },
          "metadata": {},
          "execution_count": 34
        }
      ],
      "source": [
        "data2"
      ]
    },
    {
      "cell_type": "code",
      "execution_count": null,
      "metadata": {
        "id": "3N-rrxXKfH55"
      },
      "outputs": [],
      "source": [
        "df.to_csv('data2.csv')"
      ]
    }
  ],
  "metadata": {
    "accelerator": "GPU",
    "colab": {
      "machine_shape": "hm",
      "provenance": []
    },
    "kernelspec": {
      "display_name": "Python 3",
      "name": "python3"
    },
    "language_info": {
      "name": "python"
    }
  },
  "nbformat": 4,
  "nbformat_minor": 0
}